{
 "cells": [
  {
   "cell_type": "code",
   "execution_count": 1,
   "metadata": {
    "collapsed": true
   },
   "outputs": [],
   "source": [
    "# Compatibility with Python 3\n",
    "from __future__ import absolute_import\n",
    "from __future__ import division\n",
    "from __future__ import print_function\n",
    "\n",
    "try:\n",
    "    %matplotlib inline\n",
    "    %config InlineBackend.figure_format='retina'\n",
    "except:\n",
    "    pass\n",
    "\n",
    "# Basic packages\n",
    "import numpy as np\n",
    "import os\n",
    "import sys\n",
    "import glob\n",
    "import pickle\n",
    "import astropy.io.fits as pyfits\n",
    "import astropy.table as table\n",
    "import scipy\n",
    "from scipy.stats import norm\n",
    "from scipy.interpolate import interp1d\n",
    "\n",
    "# Matplotlib adjustments (you might not need all of these)\n",
    "import matplotlib\n",
    "import matplotlib.pyplot as plt\n",
    "from matplotlib import cm\n",
    "import matplotlib.mlab as mlab\n",
    "import matplotlib.cm as cmx\n",
    "from matplotlib.backends.backend_pdf import PdfPages\n",
    "import matplotlib.patches as mpatches\n",
    "matplotlib.rc('text', usetex = True)\n",
    "params = {'text.latex.preamble': [r'\\usepackage{upgreek}', r'\\usepackage{amsmath}'],'font.family' : 'lmodern','font.size' : 11}   \n",
    "plt.rcParams.update(params)\n",
    "\n",
    "# PARULA MAP\n",
    "_parula_data = [[0.2081, 0.1663, 0.5292], \n",
    "                [0.2116238095, 0.1897809524, 0.5776761905], \n",
    "                [0.212252381, 0.2137714286, 0.6269714286], \n",
    "                [0.2081, 0.2386, 0.6770857143], \n",
    "                [0.1959047619, 0.2644571429, 0.7279], \n",
    "                [0.1707285714, 0.2919380952, 0.779247619], \n",
    "                [0.1252714286, 0.3242428571, 0.8302714286], \n",
    "                [0.0591333333, 0.3598333333, 0.8683333333], \n",
    "                [0.0116952381, 0.3875095238, 0.8819571429], \n",
    "                [0.0059571429, 0.4086142857, 0.8828428571], \n",
    "                [0.0165142857, 0.4266, 0.8786333333], \n",
    "                [0.032852381, 0.4430428571, 0.8719571429], \n",
    "                [0.0498142857, 0.4585714286, 0.8640571429], \n",
    "                [0.0629333333, 0.4736904762, 0.8554380952], \n",
    "                [0.0722666667, 0.4886666667, 0.8467], \n",
    "                [0.0779428571, 0.5039857143, 0.8383714286], \n",
    "                [0.079347619, 0.5200238095, 0.8311809524], \n",
    "                [0.0749428571, 0.5375428571, 0.8262714286], \n",
    "                [0.0640571429, 0.5569857143, 0.8239571429], \n",
    "                [0.0487714286, 0.5772238095, 0.8228285714], \n",
    "                [0.0343428571, 0.5965809524, 0.819852381], \n",
    "                [0.0265, 0.6137, 0.8135], \n",
    "                [0.0238904762, 0.6286619048, 0.8037619048], \n",
    "                [0.0230904762, 0.6417857143, 0.7912666667], \n",
    "                [0.0227714286, 0.6534857143, 0.7767571429], \n",
    "                [0.0266619048, 0.6641952381, 0.7607190476], \n",
    "                [0.0383714286, 0.6742714286, 0.743552381], \n",
    "                [0.0589714286, 0.6837571429, 0.7253857143], \n",
    "                [0.0843, 0.6928333333, 0.7061666667], \n",
    "                [0.1132952381, 0.7015, 0.6858571429], \n",
    "                [0.1452714286, 0.7097571429, 0.6646285714], \n",
    "                [0.1801333333, 0.7176571429, 0.6424333333], \n",
    "                [0.2178285714, 0.7250428571, 0.6192619048], \n",
    "                [0.2586428571, 0.7317142857, 0.5954285714], \n",
    "                [0.3021714286, 0.7376047619, 0.5711857143], \n",
    "                [0.3481666667, 0.7424333333, 0.5472666667], \n",
    "                [0.3952571429, 0.7459, 0.5244428571], \n",
    "                [0.4420095238, 0.7480809524, 0.5033142857], \n",
    "                [0.4871238095, 0.7490619048, 0.4839761905], \n",
    "                [0.5300285714, 0.7491142857, 0.4661142857], \n",
    "                [0.5708571429, 0.7485190476, 0.4493904762],\n",
    "                [0.609852381, 0.7473142857, 0.4336857143], \n",
    "                [0.6473, 0.7456, 0.4188], \n",
    "                [0.6834190476, 0.7434761905, 0.4044333333], \n",
    "                [0.7184095238, 0.7411333333, 0.3904761905], \n",
    "                [0.7524857143, 0.7384, 0.3768142857], \n",
    "                [0.7858428571, 0.7355666667, 0.3632714286], \n",
    "                [0.8185047619, 0.7327333333, 0.3497904762], \n",
    "                [0.8506571429, 0.7299, 0.3360285714], \n",
    "                [0.8824333333, 0.7274333333, 0.3217], \n",
    "                [0.9139333333, 0.7257857143, 0.3062761905], \n",
    "                [0.9449571429, 0.7261142857, 0.2886428571], \n",
    "                [0.9738952381, 0.7313952381, 0.266647619], \n",
    "                [0.9937714286, 0.7454571429, 0.240347619], \n",
    "                [0.9990428571, 0.7653142857, 0.2164142857], \n",
    "                [0.9955333333, 0.7860571429, 0.196652381], \n",
    "                [0.988, 0.8066, 0.1793666667], \n",
    "                [0.9788571429, 0.8271428571, 0.1633142857], \n",
    "                [0.9697, 0.8481380952, 0.147452381], \n",
    "                [0.9625857143, 0.8705142857, 0.1309], \n",
    "                [0.9588714286, 0.8949, 0.1132428571], \n",
    "                [0.9598238095, 0.9218333333, 0.0948380952], \n",
    "                [0.9661, 0.9514428571, 0.0755333333], \n",
    "                [0.9763, 0.9831, 0.0538]]\n",
    "\n",
    "from matplotlib.colors import ListedColormap\n",
    "\n",
    "parula = ListedColormap(_parula_data, name='parula')\n",
    "parula_zero = _parula_data[0]"
   ]
  },
  {
   "cell_type": "code",
   "execution_count": 2,
   "metadata": {
    "collapsed": true
   },
   "outputs": [],
   "source": [
    "output   = 'Cannon3.0.1'\n",
    "DR       = 'dr5.2'\n",
    "subset   = '_SMEmasks'\n",
    "\n",
    "# Change Work directory (if Sven's computer)\n",
    "try:\n",
    "    localFilePath = '/shared-storage/buder/svn-repos/trunk/GALAH/'\n",
    "    os.chdir(localFilePath)\n",
    "except:\n",
    "    print('Could not change Path to '+localFilePath)"
   ]
  },
  {
   "cell_type": "markdown",
   "metadata": {},
   "source": [
    "# Exchange stellar parameters:"
   ]
  },
  {
   "cell_type": "code",
   "execution_count": 3,
   "metadata": {
    "collapsed": false
   },
   "outputs": [
    {
     "name": "stdout",
     "output_type": "stream",
     "text": [
      "There are the following iterations available for exchange: \n",
      "['CANNON/dr5.2/Cannon3.0.1/Cannon3.0.1_Sp_SMEmasks_model.pickle', 'CANNON/dr5.2/Cannon3.0.1/Cannon3.0.1_Sp_SMEmasks_it1_model.pickle']\n",
      "I hence suggest subset SP to be called:\n",
      "_SMEmasks_it1\n"
     ]
    }
   ],
   "source": [
    "iteration_outlier = []\n",
    "\n",
    "iterations = glob.glob('CANNON/'+DR+'/'+output+'/'+output+'_Sp'+subset+'*_model.pickle')\n",
    "\n",
    "print('There are the following iterations available for exchange: ')\n",
    "print(iterations)\n",
    "\n",
    "print('I hence suggest subset SP to be called:')\n",
    "subset_sp = subset+'_it'+str(len(iterations)-1)\n",
    "print(subset_sp)"
   ]
  },
  {
   "cell_type": "code",
   "execution_count": 4,
   "metadata": {
    "collapsed": true
   },
   "outputs": [],
   "source": [
    "t = table.Table()\n",
    "sme = t.read('CANNON/'+DR+'/'+output+'/trainingset/'+output+'_Sp'+subset_sp+'_trainingset.fits')"
   ]
  },
  {
   "cell_type": "code",
   "execution_count": 5,
   "metadata": {
    "collapsed": false
   },
   "outputs": [
    {
     "name": "stdout",
     "output_type": "stream",
     "text": [
      "Exchanged SME values with Cannon3.0.1_Sp_SMEmasks_it1_selftest_tags values\n"
     ]
    }
   ],
   "source": [
    "door = open('CANNON/'+DR+'/'+output+'/'+output+'_Sp'+subset_sp+'_selftest_tags.pickle')\n",
    "sp_param, sp_e_param, sp_covs,sp_chi2_def,sp_ids,sp_chi2_good,sp_chi2_each = pickle.load(door)\n",
    "door.close()\n",
    "\n",
    "include_parameters = np.array(['Teff','Logg','Feh','Vmic','Vsini']) # 'Alpha_fe',\n",
    "include_auxiliary  = np.array(['Ak']) # ['Ebv']\n",
    "sp_labels = np.concatenate((include_parameters,include_auxiliary))\n",
    "\n",
    "spectratotake = np.arange(len(sme['sobject_id']))\n",
    "\n",
    "# Now we just exchange the SME derived parameters with the ones of the best Cannon model\n",
    "for i,each in enumerate(include_parameters):\n",
    "    sme[each+'_sme'] = sp_param[:,i]\n",
    "sme['Ak'] = sp_param[:,-1]\n",
    "        \n",
    "print('Exchanged SME values with '+output+'_Sp_SMEmasks_it1_selftest_tags values')\n",
    "\n",
    "sme.write('CANNON/'+DR+'/'+output+'/trainingset/'+output+'_Sp'+subset_sp+'_trainingset_exchanged.fits',overwrite=True)"
   ]
  },
  {
   "cell_type": "code",
   "execution_count": 8,
   "metadata": {
    "collapsed": false
   },
   "outputs": [
    {
     "name": "stderr",
     "output_type": "stream",
     "text": [
      "/home/buder/.local/lib/python2.7/site-packages/ipykernel/__main__.py:12: RuntimeWarning: invalid value encountered in less\n"
     ]
    }
   ],
   "source": [
    "possible_abundances = np.array(['Li','C','O','Na','Mg','Al','Al6696','Al7835','Si','K','K5802','K7699','Ca','Sc','Ti','V','Cr','Mn','Co','Ni','Cu','Cu5700','Cu5782','Zn','Rb','Sr','Y','Zr','Mo','Ru','Ba','Ba5854','Ba6497','La','Ce','Nd','Sm','Eu'])\n",
    "\n",
    "for mode in possible_abundances:\n",
    "\n",
    "    os.system('rm CANNON/'+DR+'/'+output+'/trainingset/'+output+'_'+mode+subset+'_trainingset.fits')\n",
    "    \n",
    "    sme = t.read('CANNON/'+DR+'/'+output+'/trainingset/'+output+'_Sp'+subset_sp+'_trainingset_exchanged.fits')\n",
    "    \n",
    "    good_abundances = (\n",
    "        np.isfinite(sme[mode+'_abund_sme']) & \n",
    "        (sme['flag_'+mode+'_abund_sme'] == 0) &\n",
    "        (sme['e_'+mode+'_abund_sme'] < 0.15)\n",
    "        )\n",
    "\n",
    "    nspectra = np.arange(len(sme['sobject_id']))\n",
    "    np.savetxt('CANNON/'+DR+'/'+output+'/trainingset/'+output+'_'+mode+subset+'_used.txt',nspectra[good_abundances],fmt='%s')\n",
    "    sme.remove_rows(nspectra[~good_abundances])\n",
    "    \n",
    "    if len(sme['sobject_id']) > 0:\n",
    "        sme.write('CANNON/'+DR+'/'+output+'/trainingset/'+output+'_'+mode+subset+'_trainingset.fits',overwrite=True)"
   ]
  },
  {
   "cell_type": "code",
   "execution_count": null,
   "metadata": {
    "collapsed": false,
    "scrolled": false
   },
   "outputs": [],
   "source": [
    "plt.rcParams['font.family'] = 'lmodern'\n",
    "plt.rcParams['font.size']       = 17\n",
    "plt.rcParams['axes.labelsize']  = 20\n",
    "plt.rcParams['ytick.labelsize'] = 16\n",
    "plt.rcParams['xtick.labelsize'] = 16\n",
    "plt.rcParams['legend.fontsize'] = 20\n",
    "\n",
    "for mode in possible_abundances:\n",
    "    sme = t.read('CANNON/'+DR+'/'+output+'/trainingset/'+output+'_'+mode+subset+'_trainingset.fits')\n",
    "    \n",
    "    print(mode,len(sme['sobject_id']))\n",
    "    \n",
    "    f,(ax1,ax2) = plt.subplots(1, 2, figsize=((2*6.4, 4.8)))\n",
    "    kwargs = dict(cmap = parula, s = 10, lw=0.1)\n",
    "    s1=ax1.scatter(sme['Teff_sme'],sme['Logg_sme'],c=sme['Feh_sme'],vmin=-2.5, vmax=0.5,**kwargs)\n",
    "    c1=plt.colorbar(s1,ax=ax1)\n",
    "    c1.set_label(r'$\\mathrm{[Fe/H]~[dex]}$')\n",
    "    ax1.set_xlim(8000,3500)\n",
    "    ax1.set_ylim(5,0)\n",
    "    s2=ax2.scatter(sme['Feh_sme'],sme[mode+'_abund_sme'],c=sme['Logg_sme'],vmin=0,vmax=5,**kwargs)\n",
    "    c2=plt.colorbar(s2,ax=ax2)\n",
    "    c2.set_label(r'$\\log g~\\mathrm{[dex]}$')\n",
    "    ax2.set_xlim(-3.0,0.65)\n",
    "    if mode == 'Li':\n",
    "        ax2.set_ylim=(-2,3)\n",
    "    elif mode in ['Al','O','K','La','Eu','Mo','Ru','V','Zr']:\n",
    "        ax2.set_ylim=(-0.5,1.5)\n",
    "    elif mode in ['Ba','Y']:\n",
    "        ax2.set_ylim(-1.00,2.00)\n",
    "    elif mode in ['Ce','Cu','Mn','Nd','Rb','Sm']:\n",
    "        ax2.set_ylim(-1.00,1.00)\n",
    "    else:\n",
    "        ax2.set_ylim(-0.5,1.00)\n",
    "    ax1.set_xlabel(r'$T_\\text{eff}~\\mathrm{[K]}$')\n",
    "    ax1.set_ylabel(r'$\\log g~\\mathrm{[dex]}$')\n",
    "    ax1.set_xlabel(r'$\\mathrm{[Fe/H]~[dex]}$')\n",
    "    ax1.set_ylabel(r'$\\mathrm{['+mode+r'/Fe]~[dex]}$')\n",
    "    plt.tight_layout()\n",
    "    plt.savefig('CANNON/'+DR+'/'+output+'/trainingset/'+output+'_'+mode+subset+'_trainingset.pdf')"
   ]
  },
  {
   "cell_type": "code",
   "execution_count": 2,
   "metadata": {
    "collapsed": true
   },
   "outputs": [],
   "source": [
    "# Convert IPYNB to PY\n",
    "\n",
    "os.chdir('/shared-storage/buder/svn-repos/trunk/GALAH/TheGALAHCannon/')\n",
    "\n",
    "convert_command = 'ipython nbconvert --to script Cannon_ab_trainingset_preparations.ipynb'\n",
    "os.system(convert_command)\n",
    "\n",
    "os.chdir('/shared-storage/buder/svn-repos/trunk/GALAH/')"
   ]
  }
 ],
 "metadata": {
  "kernelspec": {
   "display_name": "Python 2",
   "language": "python",
   "name": "python2"
  },
  "language_info": {
   "codemirror_mode": {
    "name": "ipython",
    "version": 2
   },
   "file_extension": ".py",
   "mimetype": "text/x-python",
   "name": "python",
   "nbconvert_exporter": "python",
   "pygments_lexer": "ipython2",
   "version": "2.7.13"
  }
 },
 "nbformat": 4,
 "nbformat_minor": 2
}
